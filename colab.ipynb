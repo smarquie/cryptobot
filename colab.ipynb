{
  "cells": [
    {
      "cell_type": "markdown",
      "metadata": {},
      "source": [
        "# 🚀 Crypto Trading Bot - Colab Interface\n",
        "Use these commands to control the bot:\n",
        "- `await start_bot()` → Start the trading engine\n",
        "- `complete_stop_bot()` → Stop the bot\n",
        "- `check_status()` → View portfolio status"
      ]
    },
    {
      "cell_type": "code",
      "execution_count": null,
      "metadata": {
        "collapsed": true
      },
      "outputs": [],
      "source": [
        "!pip install coinbase-advanced-py hyperliquid pandas numpy requests\n",
        "!git clone https://github.com/YOUR_USERNAME/YOUR_REPO.git \n",
        "%cd YOUR_REPO"
      ]
    },
    {
      "cell_type": "code",
      "execution_count": null,
      "metadata": {
        "collapsed": true
      },
      "outputs": [],
      "source": [
        "import asyncio\n",
        "from trading_engine import start_bot, complete_stop_bot, check_status, help_commands\n",
        "\n",
        "help_commands()"
      ]
    },
    {
      "cell_type": "code",
      "execution_count": null,
      "metadata": {
        "collapsed": true
      },
      "outputs": [],
      "source": [
        "# Start the bot in background\n",
        "await start_bot()"
      ]
    },
    {
      "cell_type": "code",
      "execution_count": null,
      "metadata": {
        "collapsed": true
      },
      "outputs": [],
      "source": [
        "# Stop the bot anytime\n",
        "complete_stop_bot()"
      ]
    },
    {
      "cell_type": "code",
      "execution_count": null,
      "metadata": {
        "collapsed": true
      },
      "outputs": [],
      "source": [
        "# Check current status\n",
        "check_status()"
      ]
    }
  ],
  "metadata": {
    "kernelspec": {
      "display_name": "Python 3",
      "language": "python",
      "name": "python3"
    },
    "language_info": {
      "codemirror_mode": {
        "name": "ipython",
        "version": 3
      },
      "file_extension": ".py",
      "mimetype": "text/x-python",
      "name": "python",
      "nbconvert_exporter": "python",
      "pygments_lexer": "ipython3",
      "version": "3.10.12"
    }
  },
  "nbformat": 4,
  "nbformat_minor": 5
}