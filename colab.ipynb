!pip install coinbase-advanced-py hyperliquid pandas numpy requests
!git clone https://github.com/YOUR_USERNAME/YOUR_REPO.git 
%cd YOUR_REPO

# Edit config.py before running
from config import BotConfig
BotConfig.MODE = 'paper'  # or 'live' or 'backtest'
BotConfig.COINBASE_API_KEY = "your_coinbase_key"
BotConfig.COINBASE_API_SECRET = "your_coinbase_secret"
BotConfig.COINBASE_PASSPHRASE = "your_coinbase_phrase"
BotConfig.HYPERLIQUID_TESTNET = True  # For paper trading
BotConfig.TELEGRAM_BOT_TOKEN = "your_telegram_token"
BotConfig.TELEGRAM_CHAT_ID = "your_chat_id"

import asyncio
from trading_engine import start_bot, complete_stop_bot, check_status, help_commands

help_commands()
